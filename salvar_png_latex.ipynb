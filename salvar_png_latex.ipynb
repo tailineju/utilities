{
 "cells": [
  {
   "cell_type": "code",
   "execution_count": 2,
   "id": "0ec1dd6b",
   "metadata": {},
   "outputs": [
    {
     "name": "stdout",
     "output_type": "stream",
     "text": [
      "Collecting matplotlib\n",
      "  Downloading matplotlib-3.10.1-cp313-cp313-win_amd64.whl.metadata (11 kB)\n",
      "Collecting contourpy>=1.0.1 (from matplotlib)\n",
      "  Downloading contourpy-1.3.2-cp313-cp313-win_amd64.whl.metadata (5.5 kB)\n",
      "Collecting cycler>=0.10 (from matplotlib)\n",
      "  Using cached cycler-0.12.1-py3-none-any.whl.metadata (3.8 kB)\n",
      "Collecting fonttools>=4.22.0 (from matplotlib)\n",
      "  Downloading fonttools-4.57.0-cp313-cp313-win_amd64.whl.metadata (104 kB)\n",
      "Collecting kiwisolver>=1.3.1 (from matplotlib)\n",
      "  Downloading kiwisolver-1.4.8-cp313-cp313-win_amd64.whl.metadata (6.3 kB)\n",
      "Collecting numpy>=1.23 (from matplotlib)\n",
      "  Downloading numpy-2.2.5-cp313-cp313-win_amd64.whl.metadata (60 kB)\n",
      "Requirement already satisfied: packaging>=20.0 in c:\\users\\user\\appdata\\roaming\\python\\python313\\site-packages (from matplotlib) (25.0)\n",
      "Collecting pillow>=8 (from matplotlib)\n",
      "  Downloading pillow-11.2.1-cp313-cp313-win_amd64.whl.metadata (9.1 kB)\n",
      "Collecting pyparsing>=2.3.1 (from matplotlib)\n",
      "  Downloading pyparsing-3.2.3-py3-none-any.whl.metadata (5.0 kB)\n",
      "Requirement already satisfied: python-dateutil>=2.7 in c:\\users\\user\\appdata\\roaming\\python\\python313\\site-packages (from matplotlib) (2.9.0.post0)\n",
      "Requirement already satisfied: six>=1.5 in c:\\users\\user\\appdata\\roaming\\python\\python313\\site-packages (from python-dateutil>=2.7->matplotlib) (1.17.0)\n",
      "Downloading matplotlib-3.10.1-cp313-cp313-win_amd64.whl (8.1 MB)\n",
      "   ---------------------------------------- 0.0/8.1 MB ? eta -:--:--\n",
      "   ------ --------------------------------- 1.3/8.1 MB 8.7 MB/s eta 0:00:01\n",
      "   -------------------------- ------------- 5.2/8.1 MB 14.9 MB/s eta 0:00:01\n",
      "   ---------------------------------------- 8.1/8.1 MB 16.0 MB/s eta 0:00:00\n",
      "Downloading contourpy-1.3.2-cp313-cp313-win_amd64.whl (223 kB)\n",
      "Using cached cycler-0.12.1-py3-none-any.whl (8.3 kB)\n",
      "Downloading fonttools-4.57.0-cp313-cp313-win_amd64.whl (2.2 MB)\n",
      "   ---------------------------------------- 0.0/2.2 MB ? eta -:--:--\n",
      "   ---------------------------------------- 2.2/2.2 MB 24.8 MB/s eta 0:00:00\n",
      "Downloading kiwisolver-1.4.8-cp313-cp313-win_amd64.whl (71 kB)\n",
      "Downloading numpy-2.2.5-cp313-cp313-win_amd64.whl (12.6 MB)\n",
      "   ---------------------------------------- 0.0/12.6 MB ? eta -:--:--\n",
      "   -------------------- ------------------- 6.6/12.6 MB 32.3 MB/s eta 0:00:01\n",
      "   ---------------------------------------  12.6/12.6 MB 32.7 MB/s eta 0:00:01\n",
      "   ---------------------------------------- 12.6/12.6 MB 29.0 MB/s eta 0:00:00\n",
      "Downloading pillow-11.2.1-cp313-cp313-win_amd64.whl (2.7 MB)\n",
      "   ---------------------------------------- 0.0/2.7 MB ? eta -:--:--\n",
      "   ---------------------------------------- 2.7/2.7 MB 27.0 MB/s eta 0:00:00\n",
      "Downloading pyparsing-3.2.3-py3-none-any.whl (111 kB)\n",
      "Installing collected packages: pyparsing, pillow, numpy, kiwisolver, fonttools, cycler, contourpy, matplotlib\n",
      "Successfully installed contourpy-1.3.2 cycler-0.12.1 fonttools-4.57.0 kiwisolver-1.4.8 matplotlib-3.10.1 numpy-2.2.5 pillow-11.2.1 pyparsing-3.2.3\n",
      "Note: you may need to restart the kernel to use updated packages.\n"
     ]
    },
    {
     "name": "stderr",
     "output_type": "stream",
     "text": [
      "  WARNING: The scripts f2py.exe and numpy-config.exe are installed in 'c:\\Users\\User\\AppData\\Local\\Programs\\Python\\Python313\\Scripts' which is not on PATH.\n",
      "  Consider adding this directory to PATH or, if you prefer to suppress this warning, use --no-warn-script-location.\n",
      "  WARNING: The scripts fonttools.exe, pyftmerge.exe, pyftsubset.exe and ttx.exe are installed in 'c:\\Users\\User\\AppData\\Local\\Programs\\Python\\Python313\\Scripts' which is not on PATH.\n",
      "  Consider adding this directory to PATH or, if you prefer to suppress this warning, use --no-warn-script-location.\n",
      "\n",
      "[notice] A new release of pip is available: 25.0.1 -> 25.1\n",
      "[notice] To update, run: python.exe -m pip install --upgrade pip\n"
     ]
    }
   ],
   "source": [
    "pip install matplotlib"
   ]
  },
  {
   "cell_type": "code",
   "execution_count": 2,
   "id": "6a0168b4",
   "metadata": {},
   "outputs": [
    {
     "data": {
      "text/plain": [
       "'variable_definitions.png'"
      ]
     },
     "execution_count": 2,
     "metadata": {},
     "output_type": "execute_result"
    }
   ],
   "source": [
    "from matplotlib import pyplot as plt\n",
    "\n",
    "# Definir o texto em LaTeX-style compatível com matplotlib\n",
    "description_text = (\n",
    "    r'$P_c$ = Base price of the competitor' + '\\n' +\n",
    "    r'$Md_{GM}$ = Median price for the reference brand' + '\\n' +\n",
    "    r'$Md_c$ = Median price for the competitor brand' + '\\n' +\n",
    "    r'$W_{GM}$ = Proportion of respondents who believe it is worth paying more for the reference brand' + '\\n' +\n",
    "    r'$W_c$ = Proportion of respondents who believe it is worth paying more for the competitor brand'\n",
    ")\n",
    "\n",
    "# Criar figura\n",
    "plt.figure(figsize=(12, 4))\n",
    "plt.text(0, 1, description_text, fontsize=14, va='top')\n",
    "plt.axis('off')\n",
    "\n",
    "# Salvar como PNG\n",
    "output_path_description = 'variable_definitions.png'\n",
    "plt.savefig(output_path_description, bbox_inches='tight', transparent=True)\n",
    "plt.close()\n",
    "\n",
    "output_path_description\n"
   ]
  },
  {
   "cell_type": "code",
   "execution_count": 4,
   "id": "51bcc3f1",
   "metadata": {},
   "outputs": [
    {
     "data": {
      "text/plain": [
       "'formula_pvpf.png'"
      ]
     },
     "execution_count": 4,
     "metadata": {},
     "output_type": "execute_result"
    }
   ],
   "source": [
    "# Ajustar fórmula para formato compatível com mathtext do matplotlib\n",
    "latex_formula = r'$\\mathrm{PVPF}_{GM} = P_c \\cdot \\left( \\frac{Md_{GM}}{Md_c} \\right) \\cdot \\left( \\frac{W_{GM}}{W_c} \\right)^{0.3}$'\n",
    "\n",
    "# Criar figura\n",
    "plt.figure(figsize=(8, 2))\n",
    "plt.text(0.5, 0.5, latex_formula, fontsize=20, ha='center', va='center')\n",
    "plt.axis('off')\n",
    "\n",
    "# Salvar como PNG\n",
    "output_path = 'formula_pvpf.png'\n",
    "plt.savefig(output_path, bbox_inches='tight', transparent=True)\n",
    "plt.close()\n",
    "\n",
    "output_path\n"
   ]
  }
 ],
 "metadata": {
  "kernelspec": {
   "display_name": "Python 3",
   "language": "python",
   "name": "python3"
  },
  "language_info": {
   "codemirror_mode": {
    "name": "ipython",
    "version": 3
   },
   "file_extension": ".py",
   "mimetype": "text/x-python",
   "name": "python",
   "nbconvert_exporter": "python",
   "pygments_lexer": "ipython3",
   "version": "3.13.3"
  }
 },
 "nbformat": 4,
 "nbformat_minor": 5
}
